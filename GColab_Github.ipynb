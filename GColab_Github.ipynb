{
  "nbformat": 4,
  "nbformat_minor": 0,
  "metadata": {
    "colab": {
      "name": "GColab-Github.ipynb",
      "provenance": [],
      "authorship_tag": "ABX9TyN7HkFnPEn2Bf3LtbnLVD9f",
      "include_colab_link": true
    },
    "kernelspec": {
      "name": "python3",
      "display_name": "Python 3"
    }
  },
  "cells": [
    {
      "cell_type": "markdown",
      "metadata": {
        "id": "view-in-github",
        "colab_type": "text"
      },
      "source": [
        "<a href=\"https://colab.research.google.com/github/KumarAnkit03/github-demo/blob/master/GColab_Github.ipynb\" target=\"_parent\"><img src=\"https://colab.research.google.com/assets/colab-badge.svg\" alt=\"Open In Colab\"/></a>"
      ]
    },
    {
      "cell_type": "markdown",
      "metadata": {
        "id": "6E2GObeeGa5q",
        "colab_type": "text"
      },
      "source": [
        "AIML Online Capstone - Pneumonia Detection Challenge (PDC)"
      ]
    }
  ]
}